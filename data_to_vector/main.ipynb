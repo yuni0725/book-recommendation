{
 "cells": [
  {
   "cell_type": "code",
   "execution_count": 1,
   "metadata": {},
   "outputs": [
    {
     "data": {
      "text/plain": [
       "True"
      ]
     },
     "execution_count": 1,
     "metadata": {},
     "output_type": "execute_result"
    }
   ],
   "source": [
    "import dotenv\n",
    "\n",
    "dotenv.load_dotenv()"
   ]
  },
  {
   "cell_type": "code",
   "execution_count": 8,
   "metadata": {},
   "outputs": [],
   "source": [
    "import openai\n",
    "import psycopg2\n",
    "import json\n",
    "import os\n",
    "\n",
    "USER = os.getenv(\"user\")\n",
    "PASSWORD = os.getenv(\"password\")\n",
    "HOST = os.getenv(\"host\")\n",
    "PORT = os.getenv(\"port\")\n",
    "DBNAME = os.getenv(\"dbname\")\n",
    "\n",
    "# PostgreSQL 연결 설정 - 이거 쓰는거 ㅇㅋㅋ\n",
    "conn = psycopg2.connect(\n",
    "    dbname=DBNAME,\n",
    "    user=USER,\n",
    "    password=PASSWORD,\n",
    "    host=HOST,\n",
    "    port=PORT\n",
    ")\n",
    "\n",
    "# 커서 생성\n",
    "cur = conn.cursor()\n",
    "\n",
    "# 테이블에서 description 가져오기\n",
    "cur.execute(\"SELECT id, description FROM documents;\")\n",
    "rows = cur.fetchall()"
   ]
  },
  {
   "cell_type": "code",
   "execution_count": 9,
   "metadata": {},
   "outputs": [],
   "source": [
    "from openai import OpenAI\n",
    "client = OpenAI()\n",
    "\n",
    "for row in rows:\n",
    "    doc_id, description = row\n",
    "\n",
    "    response = client.embeddings.create(\n",
    "         model=\"text-embedding-3-small\",  # 512 차원 임베딩 모델\n",
    "         input=description\n",
    "     )\n",
    "\n",
    "    embedding = response.data[0].embedding\n",
    "\n",
    "    cur.execute(\"\"\"\n",
    "        UPDATE documents\n",
    "       SET embedding = %s\n",
    "       WHERE id = %s;\n",
    "    \"\"\", (json.dumps(embedding), doc_id))\n",
    "\n",
    "# 끝 !!\n",
    "conn.commit()\n",
    "cur.close()\n",
    "conn.close()"
   ]
  },
  {
   "cell_type": "code",
   "execution_count": null,
   "metadata": {},
   "outputs": [],
   "source": []
  }
 ],
 "metadata": {
  "kernelspec": {
   "display_name": "env",
   "language": "python",
   "name": "python3"
  },
  "language_info": {
   "codemirror_mode": {
    "name": "ipython",
    "version": 3
   },
   "file_extension": ".py",
   "mimetype": "text/x-python",
   "name": "python",
   "nbconvert_exporter": "python",
   "pygments_lexer": "ipython3",
   "version": "3.11.2"
  }
 },
 "nbformat": 4,
 "nbformat_minor": 2
}
