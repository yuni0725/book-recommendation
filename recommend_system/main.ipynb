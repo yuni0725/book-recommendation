{
 "cells": [
  {
   "cell_type": "code",
   "execution_count": 5,
   "metadata": {},
   "outputs": [
    {
     "data": {
      "text/plain": [
       "'Hello! How can I assist you today?'"
      ]
     },
     "execution_count": 5,
     "metadata": {},
     "output_type": "execute_result"
    }
   ],
   "source": [
    "from langchain_openai import ChatOpenAI\n",
    "from dotenv import load_dotenv\n",
    "\n",
    "load_dotenv()\n",
    "\n",
    "llm = ChatOpenAI(model=\"gpt-4o-mini\", temperature=0.3)\n",
    "\n",
    "llm.invoke(\"Hello, world!\").content\n"
   ]
  },
  {
   "cell_type": "code",
   "execution_count": null,
   "metadata": {},
   "outputs": [],
   "source": [
    "from langchain.prompts import ChatPromptTemplate\n",
    "question_prompt = ChatPromptTemplate.from_template(\n",
    "    [\n",
    "        (\"system\", \"\"\"\n",
    "         You are a professional book curator who recommends books by analyzing their summaries.\n",
    "        You understand the reader's intent from their search query, and you provide thoughtful recommendations with clear reasoning.\n",
    "\n",
    "        Below is the user's search query and a list of books whose summaries were retrieved based on that query.\n",
    "\n",
    "        📌 User's query:\n",
    "        \"{query}\"\n",
    "\n",
    "        📚 Relevant book summaries:\n",
    "        {context}\n",
    "\n",
    "        Please recommend books from the context that best match the user's query.\n",
    "        For each book, explain *why* it fits the query.\n",
    "\n",
    "        Use the tone, format, and detail level of the following example recommendation as a model:\n",
    "\n",
    "        ✨ Sample recommendation to imitate:\n",
    "        {book_recommendation}\n",
    "\n",
    "        Now, generate your recommendation below in the same style:\n",
    "        \"\"\"),\n",
    "    ]\n",
    ")\n"
   ]
  }
 ],
 "metadata": {
  "kernelspec": {
   "display_name": "env",
   "language": "python",
   "name": "python3"
  },
  "language_info": {
   "codemirror_mode": {
    "name": "ipython",
    "version": 3
   },
   "file_extension": ".py",
   "mimetype": "text/x-python",
   "name": "python",
   "nbconvert_exporter": "python",
   "pygments_lexer": "ipython3",
   "version": "3.11.2"
  }
 },
 "nbformat": 4,
 "nbformat_minor": 2
}
