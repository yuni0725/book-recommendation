{
 "cells": [
  {
   "cell_type": "code",
   "execution_count": 61,
   "metadata": {},
   "outputs": [],
   "source": [
    "import pandas as pd\n",
    "import csv\n",
    "\n",
    "df = pd.read_csv(\"data.csv\", \n",
    "        quoting=csv.QUOTE_ALL,  # 모든 필드를 따옴표로 감싸기\n",
    "        escapechar=\"\\\\\",  # 이스케이프 문자 설정\n",
    "        encoding=\"utf-8\",)"
   ]
  },
  {
   "cell_type": "code",
   "execution_count": 62,
   "metadata": {},
   "outputs": [],
   "source": [
    "df['ISBN'] = df['ISBN'].str.replace(' ', '')\n",
    "df['책소개'] = df['책소개'].str.replace('\\n', '')\n",
    "df['책소개'] = df['책소개'].str.replace('\\r', '')\n",
    "df['책소개'] = df['책소개'].str.strip()\n",
    "df['책소개'] = df['책소개'].str.replace(\"   \", \" \")\n",
    "df['카카오ISBN'] = df['카카오ISBN'].astype(float).astype(int)\n"
   ]
  },
  {
   "cell_type": "code",
   "execution_count": 63,
   "metadata": {},
   "outputs": [],
   "source": [
    "df = df.dropna(subset=['알라딘카테고리명'])"
   ]
  },
  {
   "cell_type": "code",
   "execution_count": 64,
   "metadata": {},
   "outputs": [
    {
     "data": {
      "text/plain": [
       "9419"
      ]
     },
     "execution_count": 64,
     "metadata": {},
     "output_type": "execute_result"
    }
   ],
   "source": [
    "len(df)"
   ]
  },
  {
   "cell_type": "code",
   "execution_count": null,
   "metadata": {},
   "outputs": [],
   "source": []
  },
  {
   "cell_type": "code",
   "execution_count": 65,
   "metadata": {},
   "outputs": [],
   "source": [
    "df.to_csv(\"data_aladin.csv\", index=False,\n",
    "                encoding=\"utf-8-sig\",\n",
    "                quoting=csv.QUOTE_ALL,)"
   ]
  },
  {
   "cell_type": "code",
   "execution_count": null,
   "metadata": {},
   "outputs": [],
   "source": []
  }
 ],
 "metadata": {
  "kernelspec": {
   "display_name": "env",
   "language": "python",
   "name": "python3"
  },
  "language_info": {
   "codemirror_mode": {
    "name": "ipython",
    "version": 3
   },
   "file_extension": ".py",
   "mimetype": "text/x-python",
   "name": "python",
   "nbconvert_exporter": "python",
   "pygments_lexer": "ipython3",
   "version": "3.11.2"
  }
 },
 "nbformat": 4,
 "nbformat_minor": 2
}
