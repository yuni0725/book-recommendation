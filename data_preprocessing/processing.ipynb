{
 "cells": [
  {
   "cell_type": "code",
   "execution_count": 2,
   "metadata": {},
   "outputs": [
    {
     "data": {
      "text/html": [
       "<div>\n",
       "<style scoped>\n",
       "    .dataframe tbody tr th:only-of-type {\n",
       "        vertical-align: middle;\n",
       "    }\n",
       "\n",
       "    .dataframe tbody tr th {\n",
       "        vertical-align: top;\n",
       "    }\n",
       "\n",
       "    .dataframe thead th {\n",
       "        text-align: right;\n",
       "    }\n",
       "</style>\n",
       "<table border=\"1\" class=\"dataframe\">\n",
       "  <thead>\n",
       "    <tr style=\"text-align: right;\">\n",
       "      <th></th>\n",
       "      <th>자료명</th>\n",
       "      <th>저자</th>\n",
       "      <th>출판사</th>\n",
       "      <th>출판년도</th>\n",
       "      <th>소장처</th>\n",
       "      <th>ISBN</th>\n",
       "    </tr>\n",
       "  </thead>\n",
       "  <tbody>\n",
       "    <tr>\n",
       "      <th>0</th>\n",
       "      <td>(캠벨) 생명과학. 2: 6~8단원</td>\n",
       "      <td>Neil A. Campbell 외 지음; 전상학 외 역</td>\n",
       "      <td>바이오사이언스</td>\n",
       "      <td>2022</td>\n",
       "      <td>자료실</td>\n",
       "      <td>9788968241260</td>\n",
       "    </tr>\n",
       "    <tr>\n",
       "      <th>1</th>\n",
       "      <td>(캠벨) 생명과학. 2: 6~8단원</td>\n",
       "      <td>Neil A. Campbell 외 지음; 전상학 외 역</td>\n",
       "      <td>바이오사이언스</td>\n",
       "      <td>2022</td>\n",
       "      <td>자료실</td>\n",
       "      <td>9788968241260</td>\n",
       "    </tr>\n",
       "    <tr>\n",
       "      <th>2</th>\n",
       "      <td>The giver</td>\n",
       "      <td>Lois Lowry</td>\n",
       "      <td>Houghton Mifflin Harcourt</td>\n",
       "      <td>1993</td>\n",
       "      <td>신착도서</td>\n",
       "      <td>9780544442207</td>\n",
       "    </tr>\n",
       "    <tr>\n",
       "      <th>3</th>\n",
       "      <td>Holes</td>\n",
       "      <td>Louis Sachar</td>\n",
       "      <td>Laurel leaf newbery</td>\n",
       "      <td>2023</td>\n",
       "      <td>신착도서</td>\n",
       "      <td>9780440228592</td>\n",
       "    </tr>\n",
       "    <tr>\n",
       "      <th>4</th>\n",
       "      <td>신을 죽인 여자들</td>\n",
       "      <td>클라우디아 피녜이로 지음; 엄지영 옮김</td>\n",
       "      <td>푸른숲</td>\n",
       "      <td>2023</td>\n",
       "      <td>신착도서</td>\n",
       "      <td>9791156754497</td>\n",
       "    </tr>\n",
       "  </tbody>\n",
       "</table>\n",
       "</div>"
      ],
      "text/plain": [
       "                   자료명                              저자  \\\n",
       "0  (캠벨) 생명과학. 2: 6~8단원  Neil A. Campbell 외 지음; 전상학 외 역   \n",
       "1  (캠벨) 생명과학. 2: 6~8단원  Neil A. Campbell 외 지음; 전상학 외 역   \n",
       "2            The giver                      Lois Lowry   \n",
       "3                Holes                    Louis Sachar   \n",
       "4            신을 죽인 여자들           클라우디아 피녜이로 지음; 엄지영 옮김   \n",
       "\n",
       "                         출판사  출판년도   소장처            ISBN  \n",
       "0                    바이오사이언스  2022   자료실  9788968241260   \n",
       "1                    바이오사이언스  2022   자료실  9788968241260   \n",
       "2  Houghton Mifflin Harcourt  1993  신착도서  9780544442207   \n",
       "3        Laurel leaf newbery  2023  신착도서  9780440228592   \n",
       "4                        푸른숲  2023  신착도서  9791156754497   "
      ]
     },
     "execution_count": 2,
     "metadata": {},
     "output_type": "execute_result"
    }
   ],
   "source": [
    "import pandas as pd\n",
    "\n",
    "df = pd.read_csv('dataset/book_info_ISBN.csv')\n",
    "df[0:5]"
   ]
  },
  {
   "cell_type": "code",
   "execution_count": 3,
   "metadata": {},
   "outputs": [
    {
     "name": "stdout",
     "output_type": "stream",
     "text": [
      "전체 도서 수: 20696\n",
      "필터링 후 도서 수: 14077\n"
     ]
    }
   ],
   "source": [
    "# '2층 자료실'이 아닌 도서만 필터링\n",
    "filtered_df = df[(df['소장처'] == '자료실') | (df['소장처'] == '신착도서') | (df['소장처'] == '민음사 전집')]\n",
    "\n",
    "# ISBN이 존재하지 않는 행 제거\n",
    "filtered_df = filtered_df.dropna(subset=['ISBN'])\n",
    "\n",
    "# 필터링된 데이터를 새로운 CSV 파일로 저장\n",
    "# 자료명 기준으로 중복 제거\n",
    "filtered_df = filtered_df.drop_duplicates(subset=['자료명'], keep='first')\n",
    "\n",
    "# 필터링된 데이터를 새로운 CSV 파일로 저장\n",
    "filtered_df.to_csv('dataset/drop_duplicates_book_data.csv', index=False)\n",
    "\n",
    "print(f\"전체 도서 수: {len(df)}\")\n",
    "print(f\"필터링 후 도서 수: {len(filtered_df)}\")\n"
   ]
  },
  {
   "cell_type": "code",
   "execution_count": 11,
   "metadata": {},
   "outputs": [
    {
     "name": "stdout",
     "output_type": "stream",
     "text": [
      "[{'title': '대지 그리고 휴식의 몽상', 'link': 'http://www.aladin.co.kr/shop/wproduct.aspx?ItemId=394841&amp;partner=openAPI&amp;start=api', 'author': '가스통 바슐라르 (지은이), 정영란 (옮긴이)', 'pubDate': '2002-12-30', 'description': \"이 책은 인간의 상상력 연구에 몰두한 '상상력의 철학자' 바슐라르의 중요 저술 중 하나로, <대지 그리고 의지의 몽상>(1947)과 함께 그가 주장했던 '4원소설' 중 맨 마지막 '흙'에 관한 비중있는 연구를 담고 있다.\", 'isbn': '8982815880', 'isbn13': '9788982815881', 'itemId': 394841, 'priceSales': 17820, 'priceStandard': 19800, 'mallType': 'BOOK', 'stockStatus': '', 'mileage': 990, 'cover': 'https://image.aladin.co.kr/product/39/48/coversum/8982815880_1.jpg', 'categoryId': 51453, 'categoryName': '국내도서>인문학>서양철학>프랑스철학', 'publisher': '문학동네', 'salesPoint': 1292, 'adult': False, 'fixedPrice': True, 'customerReviewRank': 10, 'subInfo': {'subTitle': '', 'originalTitle': 'La Terre et Les Re`veries Du Repos', 'itemPage': 376}}]\n"
     ]
    }
   ],
   "source": [
    "import requests\n",
    "\n",
    "response = requests.get(\n",
    "        f\"https://www.aladin.co.kr/ttb/api/ItemLookUp.aspx?ttbkey=ttbyuni07251642001&itemIdType=ISBN&ItemId=8982815880&&output=JS&&Version=20131101\"\n",
    "    )\n",
    "result = response.json()\n",
    "print(result['item'])\n",
    "\n",
    "processed_aladin = {\n",
    "    \"알라딘표지\": result['item'][0]['cover'],\n",
    "    \"알라딘ISBN13\": result['item'][0]['isbn13'],\n",
    "    \"알라딘설명\": result['item'][0]['description'],\n",
    "    \"알라딘카테고리ID\": result['item'][0]['categoryId'],\n",
    "    \"알라딘카테고리명\": result['item'][0]['categoryName']\n",
    "}\n",
    "\n",
    "print(processed_aladin)\n"
   ]
  },
  {
   "cell_type": "code",
   "execution_count": null,
   "metadata": {},
   "outputs": [],
   "source": []
  }
 ],
 "metadata": {
  "kernelspec": {
   "display_name": "env",
   "language": "python",
   "name": "python3"
  },
  "language_info": {
   "codemirror_mode": {
    "name": "ipython",
    "version": 3
   },
   "file_extension": ".py",
   "mimetype": "text/x-python",
   "name": "python",
   "nbconvert_exporter": "python",
   "pygments_lexer": "ipython3",
   "version": "3.11.2"
  }
 },
 "nbformat": 4,
 "nbformat_minor": 2
}
