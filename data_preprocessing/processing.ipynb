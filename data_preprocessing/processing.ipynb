{
 "cells": [
  {
   "cell_type": "code",
   "execution_count": 157,
   "metadata": {},
   "outputs": [
    {
     "data": {
      "text/plain": [
       "20696"
      ]
     },
     "execution_count": 157,
     "metadata": {},
     "output_type": "execute_result"
    }
   ],
   "source": [
    "import pandas as pd\n",
    "\n",
    "df = pd.read_csv('dataset/book_info_data.csv')\n",
    "df[0:5]\n",
    "len(df)"
   ]
  },
  {
   "cell_type": "code",
   "execution_count": 159,
   "metadata": {},
   "outputs": [
    {
     "name": "stdout",
     "output_type": "stream",
     "text": [
      "전체 도서 수: 20696\n",
      "필터링 후 도서 수: 15557\n"
     ]
    }
   ],
   "source": [
    "# '2층 자료실'이 아닌 도서만 필터링\n",
    "filtered_df = df[df['소장처'] != '2층 자료실']\n",
    "\n",
    "# 필터링된 데이터를 새로운 CSV 파일로 저장\n",
    "# 자료명 기준으로 중복 제거\n",
    "filtered_df = filtered_df.drop_duplicates(subset=['자료명'], keep='first')\n",
    "\n",
    "# 필터링된 데이터를 새로운 CSV 파일로 저장\n",
    "filtered_df.to_csv('dataset/processed_book_info_data.csv', index=False)\n",
    "\n",
    "print(f\"전체 도서 수: {len(df)}\")\n",
    "print(f\"필터링 후 도서 수: {len(filtered_df)}\")\n"
   ]
  },
  {
   "cell_type": "code",
   "execution_count": 161,
   "metadata": {},
   "outputs": [],
   "source": [
    "df = pd.read_csv('dataset/processed_book_info_data.csv')\n",
    "# 데이터프레임을 두 부분으로 나누기\n",
    "half_length = len(df) // 2\n",
    "df1 = df[:half_length]\n",
    "df2 = df[half_length:]\n",
    "\n",
    "# 각각 '_1'과 '_2'가 붙은 파일로 저장\n",
    "df1.to_csv('dataset/processed_book_info_data_1.csv', index=False)\n",
    "df2.to_csv('dataset/processed_book_info_data_2.csv', index=False)\n",
    "\n",
    "\n"
   ]
  },
  {
   "cell_type": "code",
   "execution_count": null,
   "metadata": {},
   "outputs": [],
   "source": []
  }
 ],
 "metadata": {
  "kernelspec": {
   "display_name": "env",
   "language": "python",
   "name": "python3"
  },
  "language_info": {
   "codemirror_mode": {
    "name": "ipython",
    "version": 3
   },
   "file_extension": ".py",
   "mimetype": "text/x-python",
   "name": "python",
   "nbconvert_exporter": "python",
   "pygments_lexer": "ipython3",
   "version": "3.11.2"
  }
 },
 "nbformat": 4,
 "nbformat_minor": 2
}
