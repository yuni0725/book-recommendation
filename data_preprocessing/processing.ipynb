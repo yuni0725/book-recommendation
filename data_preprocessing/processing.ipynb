{
 "cells": [
  {
   "cell_type": "code",
   "execution_count": 163,
   "metadata": {},
   "outputs": [
    {
     "data": {
      "text/plain": [
       "20696"
      ]
     },
     "execution_count": 163,
     "metadata": {},
     "output_type": "execute_result"
    }
   ],
   "source": [
    "import pandas as pd\n",
    "\n",
    "df = pd.read_csv('dataset/book_info_data.csv')\n",
    "df[0:5]\n",
    "len(df)"
   ]
  },
  {
   "cell_type": "code",
   "execution_count": 165,
   "metadata": {},
   "outputs": [
    {
     "name": "stdout",
     "output_type": "stream",
     "text": [
      "전체 도서 수: 20696\n",
      "필터링 후 도서 수: 15186\n"
     ]
    }
   ],
   "source": [
    "# '2층 자료실'이 아닌 도서만 필터링\n",
    "filtered_df = df[(df['소장처'] == '자료실') | (df['소장처'] == '신착도서')]\n",
    "\n",
    "# 필터링된 데이터를 새로운 CSV 파일로 저장\n",
    "# 자료명 기준으로 중복 제거\n",
    "filtered_df = filtered_df.drop_duplicates(subset=['자료명'], keep='first')\n",
    "\n",
    "# 필터링된 데이터를 새로운 CSV 파일로 저장\n",
    "filtered_df.to_csv('dataset/drop_duplicates_book_data.csv', index=False)\n",
    "\n",
    "print(f\"전체 도서 수: {len(df)}\")\n",
    "print(f\"필터링 후 도서 수: {len(filtered_df)}\")\n"
   ]
  },
  {
   "cell_type": "code",
   "execution_count": 171,
   "metadata": {},
   "outputs": [
    {
     "name": "stdout",
     "output_type": "stream",
     "text": [
      "{'documents': [{'authors': ['김언정', '송은경'], 'contents': '냐하~! 요절복통 장난꾸러기 흔한남매와 함께하는 과학 첫걸음. 《흔한남매 과학 탐험대》 시리즈는 과학을 처음 접하는 아이들이 과학의 주요 내용을 미리 맛볼 수 있는 초등 과학 입문서이다. 흔한남매가 최고의 과학 전문가들과 함께 우주, 지구와 달, 우리 몸 등을 여행하며 쉽고 재미있게 과학 지식을 배운다. 초등학교 과학 교과서의 내용을 모두 담았고, 생활 과학 정보, 과학 관련 최근 이슈, 우리나라 관련 정보들을 더했다. 흔한남매와 함께라면 학교', 'datetime': '2024-11-22T00:00:00.000+09:00', 'isbn': '1194330592 9791194330592', 'price': 14800, 'publisher': '주니어김영사', 'sale_price': 13320, 'status': '정상판매', 'thumbnail': 'https://search1.kakaocdn.net/thumb/R120x174.q85/?fname=http%3A%2F%2Ft1.daumcdn.net%2Flbook%2Fimage%2F6778221%3Ftimestamp%3D20241206145937', 'title': '흔한남매 과학 탐험대 12: 공룡과 화석', 'translators': [], 'url': 'https://search.daum.net/search?w=bookpage&bookId=6778221&q=%ED%9D%94%ED%95%9C%EB%82%A8%EB%A7%A4+%EA%B3%BC%ED%95%99+%ED%83%90%ED%97%98%EB%8C%80+12%3A+%EA%B3%B5%EB%A3%A1%EA%B3%BC+%ED%99%94%EC%84%9D'}, {'authors': ['마츠모토 나오야'], 'contents': '식별 클래스 괴수의 습격을 받은 동방 사단 에어리어. 나루미와 키코루는 각개 격파에 성공하지만, 호시나의 대전 상대는 시작품 10호의 완성품인 11호. 게다가 호시나가 장착하는 식별 괴수 병기는 해방 전력이 83% 이상 올라가지 않아 고전을 면치 못하는데?! ──예상을 뛰어넘는, 제12권!!', 'datetime': '2024-05-30T00:00:00.000+09:00', 'isbn': '1136787305 9791136787309', 'price': 6000, 'publisher': '서울미디어코믹스(서울문화사)', 'sale_price': 5400, 'status': '정상판매', 'thumbnail': 'https://search1.kakaocdn.net/thumb/R120x174.q85/?fname=http%3A%2F%2Ft1.daumcdn.net%2Flbook%2Fimage%2F6639274%3Ftimestamp%3D20241011161334', 'title': '괴수 8호 12', 'translators': ['유유리'], 'url': 'https://search.daum.net/search?w=bookpage&bookId=6639274&q=%EA%B4%B4%EC%88%98+8%ED%98%B8+12'}, {'authors': ['엔도 타츠야'], 'contents': '아냐의 자연 교실,유리의 휴가 중에 생긴 일, 프랭키와 어느 소녀의 짧은 교류,  포저 가족의 초상화를 둘러싼 사건….  포저 가족의 비밀스런 이야기가 소설화!!', 'datetime': '2023-11-27T00:00:00.000+09:00', 'isbn': '1141118920 9791141118921', 'price': 6000, 'publisher': '학산문화사', 'sale_price': 5400, 'status': '정상판매', 'thumbnail': 'https://search1.kakaocdn.net/thumb/R120x174.q85/?fname=http%3A%2F%2Ft1.daumcdn.net%2Flbook%2Fimage%2F6497005%3Ftimestamp%3D20250328155513', 'title': '스파이 패밀리 12', 'translators': [], 'url': 'https://search.daum.net/search?w=bookpage&bookId=6497005&q=%EC%8A%A4%ED%8C%8C%EC%9D%B4+%ED%8C%A8%EB%B0%80%EB%A6%AC+12'}, {'authors': ['아카사카 아카', '요코야리 멘고'], 'contents': \"거물 영화 감독, 시마 나사노리의 작업실용 아파트에 출입하는 모습을 주간지에 찍히고 만 아리마 카나. 아쿠아는 이 '스캔들'을 덮어버리는 바터 기사를 제안, 세간에 당시 16세였던 아이의 출산과 자신들의 정체를 밝히게 된다. 아이가 아이돌로서 관철했던 '거짓말'에 대한 배신 행위에 분노한 루비는 아쿠아에게 강한 거부감을 나타나게 되고... 그런 가운데, 영화 '15년의 거짓말' 기획이 본격적으로 시동하는 제12권!!\", 'datetime': '2023-10-31T00:00:00.000+09:00', 'isbn': '1171244711 9791171244713', 'price': 6000, 'publisher': '대원씨아이', 'sale_price': 5400, 'status': '정상판매', 'thumbnail': 'https://search1.kakaocdn.net/thumb/R120x174.q85/?fname=http%3A%2F%2Ft1.daumcdn.net%2Flbook%2Fimage%2F6473389%3Ftimestamp%3D20231221162555', 'title': '최애의 아이 12', 'translators': [], 'url': 'https://search.daum.net/search?w=bookpage&bookId=6473389&q=%EC%B5%9C%EC%95%A0%EC%9D%98+%EC%95%84%EC%9D%B4+12'}, {'authors': ['박송이'], 'contents': '《에그박사 12》는 인기 키즈 크리에이터 에그박사의 원작 영상을 생생한 관찰 스토리와 귀여운 생물 도감으로 재구성한 자연 생물 관찰 만화입니다. 과학자, 철학가, 예술가의 눈으로 곤충의 삶을 관찰했던 프랑스의 곤충학자 파브르의《곤충기》처럼 에그박사의 눈으로 바라본 신비롭고 놀라운 자연 생물의 이야기가 가득하지요. 주인공 에그박사와 양박사, 웅박사가 자연을 누비며 신기한 생물들을 관찰하는 짜릿한 메인 스토리와 의인화된 생물들의 서브 스토리의 구성은 자연', 'datetime': '2024-03-22T00:00:00.000+09:00', 'isbn': '1168417988 9791168417984', 'price': 14500, 'publisher': '미래엔아이세움', 'sale_price': 13050, 'status': '정상판매', 'thumbnail': 'https://search1.kakaocdn.net/thumb/R120x174.q85/?fname=http%3A%2F%2Ft1.daumcdn.net%2Flbook%2Fimage%2F6599820%3Ftimestamp%3D20240613151150', 'title': '에그박사 12', 'translators': [], 'url': 'https://search.daum.net/search?w=bookpage&bookId=6599820&q=%EC%97%90%EA%B7%B8%EB%B0%95%EC%82%AC+12'}, {'authors': ['백난도'], 'contents': '콩트 등을 통해 어린이들에게 큰 사랑을 받고 있으며, 주로 남매 사이에서 일어날 수 있는 현실적인 에피소드를 코믹하게 그려 내어 웃음과 공감을 이끌어 내고 있습니다.  흔한남매가 선사하는 유쾌한 우애와 순수한 웃음! 《흔한남매 12》는 ‘흔한남매’ 유튜브 영상의 스토리를 앙증맞고 유머러스한 만화로 풀어 낸 코믹북입니다. 하루도 조용할 날이 없는 으뜸이와 에이미의 일상 스토리는 진짜 웃음이 필요한 어린이들에게 유쾌한 우애와 순수한 웃음을 선사할 것입니다', 'datetime': '2022-11-30T00:00:00.000+09:00', 'isbn': '1168414474 9791168414471', 'price': 14500, 'publisher': '미래엔아이세움', 'sale_price': 13050, 'status': '정상판매', 'thumbnail': 'https://search1.kakaocdn.net/thumb/R120x174.q85/?fname=http%3A%2F%2Ft1.daumcdn.net%2Flbook%2Fimage%2F6220740%3Ftimestamp%3D20241213154247', 'title': '흔한남매 12', 'translators': [], 'url': 'https://search.daum.net/search?w=bookpage&bookId=6220740&q=%ED%9D%94%ED%95%9C%EB%82%A8%EB%A7%A4+12'}, {'authors': ['스즈키 유우토'], 'contents': '영화를 모독하는 놈은 죽인다.  시시바 vs 요츠무라, 오사라기 vs 기녀의 사투로 인해 피바람이 치는 교토 거리!!  사제 간이었던 요츠무라와 시시바, 그들을 둘러싼 장절한 과거란…?!  한편 그 시각, 혼란에 빠진 JCC에서는 사카모토와 카나구리의 배틀이 최종국면에 접어들고 있었다!!', 'datetime': '2023-09-30T00:00:00.000+09:00', 'isbn': '1171240651 9791171240654', 'price': 6000, 'publisher': '대원씨아이', 'sale_price': 5400, 'status': '정상판매', 'thumbnail': 'https://search1.kakaocdn.net/thumb/R120x174.q85/?fname=http%3A%2F%2Ft1.daumcdn.net%2Flbook%2Fimage%2F6445989%3Ftimestamp%3D20250318151951', 'title': '사카모토 데이즈 12: 크랭크 인', 'translators': [], 'url': 'https://search.daum.net/search?w=bookpage&bookId=6445989&q=%EC%82%AC%EC%B9%B4%EB%AA%A8%ED%86%A0+%EB%8D%B0%EC%9D%B4%EC%A6%88+12%3A+%ED%81%AC%EB%9E%AD%ED%81%AC+%EC%9D%B8'}, {'authors': ['후지모토 타츠키'], 'contents': '악마 포치타와 함께 빚쟁이 데빌 헌터로 고용되어 혹사당하는 극빈곤 소년 덴지. 시궁창 인생은 잔인한 배신을 계기로 급변한다. 악마가 깃든 몸으로 악마를 사냥하는 신시대 다크 히어로 액션, 개막!', 'datetime': '2023-01-25T00:00:00.000+09:00', 'isbn': '1169475809 9791169475808', 'price': 6000, 'publisher': '학산문화사', 'sale_price': 5400, 'status': '정상판매', 'thumbnail': 'https://search1.kakaocdn.net/thumb/R120x174.q85/?fname=http%3A%2F%2Ft1.daumcdn.net%2Flbook%2Fimage%2F6265827%3Ftimestamp%3D20250227154323', 'title': '체인소 맨 12', 'translators': [], 'url': 'https://search.daum.net/search?w=bookpage&bookId=6265827&q=%EC%B2%B4%EC%9D%B8%EC%86%8C+%EB%A7%A8+12'}, {'authors': ['안치현'], 'contents': \"구독자 수 283만 명의 인기 유튜브 크리에이터, 흔한남매가 과학 학습 만화로 찾아왔습니다. 학습 만화라서 어렵고 딱딱할 것이라는 생각은 금물! 이 책은 유머러스한 에피소드 '만화'와 말랑말랑한 과학 '정보' 페이지, 핵심 키워드를 담은 '퀴즈', 그리고 마지막으로 성취감을 길러 줄 '특별 칭찬 상장'까지 지루할 틈 없는 흥미로운 구성으로 가득하니까요. 《흔한남매의 흔한 호기심》으로 배꼽 잡는 재미와 과학 호기심을 동시에 잡아 보세요.\", 'datetime': '2024-10-10T00:00:00.000+09:00', 'isbn': '1168419018 9791168419018', 'price': 15000, 'publisher': '미래엔아이세움', 'sale_price': 13500, 'status': '정상판매', 'thumbnail': 'https://search1.kakaocdn.net/thumb/R120x174.q85/?fname=http%3A%2F%2Ft1.daumcdn.net%2Flbook%2Fimage%2F6743999%3Ftimestamp%3D20250207154037', 'title': '흔한남매의 흔한 호기심 12', 'translators': [], 'url': 'https://search.daum.net/search?w=bookpage&bookId=6743999&q=%ED%9D%94%ED%95%9C%EB%82%A8%EB%A7%A4%EC%9D%98+%ED%9D%94%ED%95%9C+%ED%98%B8%EA%B8%B0%EC%8B%AC+12'}, {'authors': ['이노우에 타케히코'], 'contents': '90년대는 그야말로 ‘농구’의 시대였다. 당시의 중고등학생들은 유명한 NBA선수들만 뿐만 아니라 대학농구에서 활약하는 선수들의 이름을 외우고 다녔으며 거리에는 농구 드라마 ‘마지막 승부’의 주제곡이 흘러나왔다. 이렇게 한국뿐만 아니라 90년대에는 중국과 일본까지 동북아시아에는 농구의 인기가 치솟았다. 이 현상에 한 몫을 한 것이 바로 이노우에 타케히코의 《슬램덩크》라는 작품이다.', 'datetime': '2018-10-31T00:00:00.000+09:00', 'isbn': '1133487629 9791133487622', 'price': 7000, 'publisher': '대원씨아이', 'sale_price': 6300, 'status': '정상판매', 'thumbnail': 'https://search1.kakaocdn.net/thumb/R120x174.q85/?fname=http%3A%2F%2Ft1.daumcdn.net%2Flbook%2Fimage%2F3761658%3Ftimestamp%3D20250116113800', 'title': '슬램덩크 12: 북산 vs. 능남(2)(신장재편판)', 'translators': [], 'url': 'https://search.daum.net/search?w=bookpage&bookId=3761658&q=%EC%8A%AC%EB%9E%A8%EB%8D%A9%ED%81%AC+12%3A+%EB%B6%81%EC%82%B0+vs.+%EB%8A%A5%EB%82%A8%282%29%28%EC%8B%A0%EC%9E%A5%EC%9E%AC%ED%8E%B8%ED%8C%90%29'}], 'meta': {'is_end': False, 'pageable_count': 1000, 'total_count': 38102}}\n"
     ]
    },
    {
     "data": {
      "text/plain": [
       "{'documents': [{'authors': ['김언정', '송은경'],\n",
       "   'contents': '냐하~! 요절복통 장난꾸러기 흔한남매와 함께하는 과학 첫걸음. 《흔한남매 과학 탐험대》 시리즈는 과학을 처음 접하는 아이들이 과학의 주요 내용을 미리 맛볼 수 있는 초등 과학 입문서이다. 흔한남매가 최고의 과학 전문가들과 함께 우주, 지구와 달, 우리 몸 등을 여행하며 쉽고 재미있게 과학 지식을 배운다. 초등학교 과학 교과서의 내용을 모두 담았고, 생활 과학 정보, 과학 관련 최근 이슈, 우리나라 관련 정보들을 더했다. 흔한남매와 함께라면 학교',\n",
       "   'datetime': '2024-11-22T00:00:00.000+09:00',\n",
       "   'isbn': '1194330592 9791194330592',\n",
       "   'price': 14800,\n",
       "   'publisher': '주니어김영사',\n",
       "   'sale_price': 13320,\n",
       "   'status': '정상판매',\n",
       "   'thumbnail': 'https://search1.kakaocdn.net/thumb/R120x174.q85/?fname=http%3A%2F%2Ft1.daumcdn.net%2Flbook%2Fimage%2F6778221%3Ftimestamp%3D20241206145937',\n",
       "   'title': '흔한남매 과학 탐험대 12: 공룡과 화석',\n",
       "   'translators': [],\n",
       "   'url': 'https://search.daum.net/search?w=bookpage&bookId=6778221&q=%ED%9D%94%ED%95%9C%EB%82%A8%EB%A7%A4+%EA%B3%BC%ED%95%99+%ED%83%90%ED%97%98%EB%8C%80+12%3A+%EA%B3%B5%EB%A3%A1%EA%B3%BC+%ED%99%94%EC%84%9D'},\n",
       "  {'authors': ['마츠모토 나오야'],\n",
       "   'contents': '식별 클래스 괴수의 습격을 받은 동방 사단 에어리어. 나루미와 키코루는 각개 격파에 성공하지만, 호시나의 대전 상대는 시작품 10호의 완성품인 11호. 게다가 호시나가 장착하는 식별 괴수 병기는 해방 전력이 83% 이상 올라가지 않아 고전을 면치 못하는데?! ──예상을 뛰어넘는, 제12권!!',\n",
       "   'datetime': '2024-05-30T00:00:00.000+09:00',\n",
       "   'isbn': '1136787305 9791136787309',\n",
       "   'price': 6000,\n",
       "   'publisher': '서울미디어코믹스(서울문화사)',\n",
       "   'sale_price': 5400,\n",
       "   'status': '정상판매',\n",
       "   'thumbnail': 'https://search1.kakaocdn.net/thumb/R120x174.q85/?fname=http%3A%2F%2Ft1.daumcdn.net%2Flbook%2Fimage%2F6639274%3Ftimestamp%3D20241011161334',\n",
       "   'title': '괴수 8호 12',\n",
       "   'translators': ['유유리'],\n",
       "   'url': 'https://search.daum.net/search?w=bookpage&bookId=6639274&q=%EA%B4%B4%EC%88%98+8%ED%98%B8+12'},\n",
       "  {'authors': ['엔도 타츠야'],\n",
       "   'contents': '아냐의 자연 교실,유리의 휴가 중에 생긴 일, 프랭키와 어느 소녀의 짧은 교류,  포저 가족의 초상화를 둘러싼 사건….  포저 가족의 비밀스런 이야기가 소설화!!',\n",
       "   'datetime': '2023-11-27T00:00:00.000+09:00',\n",
       "   'isbn': '1141118920 9791141118921',\n",
       "   'price': 6000,\n",
       "   'publisher': '학산문화사',\n",
       "   'sale_price': 5400,\n",
       "   'status': '정상판매',\n",
       "   'thumbnail': 'https://search1.kakaocdn.net/thumb/R120x174.q85/?fname=http%3A%2F%2Ft1.daumcdn.net%2Flbook%2Fimage%2F6497005%3Ftimestamp%3D20250328155513',\n",
       "   'title': '스파이 패밀리 12',\n",
       "   'translators': [],\n",
       "   'url': 'https://search.daum.net/search?w=bookpage&bookId=6497005&q=%EC%8A%A4%ED%8C%8C%EC%9D%B4+%ED%8C%A8%EB%B0%80%EB%A6%AC+12'},\n",
       "  {'authors': ['아카사카 아카', '요코야리 멘고'],\n",
       "   'contents': \"거물 영화 감독, 시마 나사노리의 작업실용 아파트에 출입하는 모습을 주간지에 찍히고 만 아리마 카나. 아쿠아는 이 '스캔들'을 덮어버리는 바터 기사를 제안, 세간에 당시 16세였던 아이의 출산과 자신들의 정체를 밝히게 된다. 아이가 아이돌로서 관철했던 '거짓말'에 대한 배신 행위에 분노한 루비는 아쿠아에게 강한 거부감을 나타나게 되고... 그런 가운데, 영화 '15년의 거짓말' 기획이 본격적으로 시동하는 제12권!!\",\n",
       "   'datetime': '2023-10-31T00:00:00.000+09:00',\n",
       "   'isbn': '1171244711 9791171244713',\n",
       "   'price': 6000,\n",
       "   'publisher': '대원씨아이',\n",
       "   'sale_price': 5400,\n",
       "   'status': '정상판매',\n",
       "   'thumbnail': 'https://search1.kakaocdn.net/thumb/R120x174.q85/?fname=http%3A%2F%2Ft1.daumcdn.net%2Flbook%2Fimage%2F6473389%3Ftimestamp%3D20231221162555',\n",
       "   'title': '최애의 아이 12',\n",
       "   'translators': [],\n",
       "   'url': 'https://search.daum.net/search?w=bookpage&bookId=6473389&q=%EC%B5%9C%EC%95%A0%EC%9D%98+%EC%95%84%EC%9D%B4+12'},\n",
       "  {'authors': ['박송이'],\n",
       "   'contents': '《에그박사 12》는 인기 키즈 크리에이터 에그박사의 원작 영상을 생생한 관찰 스토리와 귀여운 생물 도감으로 재구성한 자연 생물 관찰 만화입니다. 과학자, 철학가, 예술가의 눈으로 곤충의 삶을 관찰했던 프랑스의 곤충학자 파브르의《곤충기》처럼 에그박사의 눈으로 바라본 신비롭고 놀라운 자연 생물의 이야기가 가득하지요. 주인공 에그박사와 양박사, 웅박사가 자연을 누비며 신기한 생물들을 관찰하는 짜릿한 메인 스토리와 의인화된 생물들의 서브 스토리의 구성은 자연',\n",
       "   'datetime': '2024-03-22T00:00:00.000+09:00',\n",
       "   'isbn': '1168417988 9791168417984',\n",
       "   'price': 14500,\n",
       "   'publisher': '미래엔아이세움',\n",
       "   'sale_price': 13050,\n",
       "   'status': '정상판매',\n",
       "   'thumbnail': 'https://search1.kakaocdn.net/thumb/R120x174.q85/?fname=http%3A%2F%2Ft1.daumcdn.net%2Flbook%2Fimage%2F6599820%3Ftimestamp%3D20240613151150',\n",
       "   'title': '에그박사 12',\n",
       "   'translators': [],\n",
       "   'url': 'https://search.daum.net/search?w=bookpage&bookId=6599820&q=%EC%97%90%EA%B7%B8%EB%B0%95%EC%82%AC+12'},\n",
       "  {'authors': ['백난도'],\n",
       "   'contents': '콩트 등을 통해 어린이들에게 큰 사랑을 받고 있으며, 주로 남매 사이에서 일어날 수 있는 현실적인 에피소드를 코믹하게 그려 내어 웃음과 공감을 이끌어 내고 있습니다.  흔한남매가 선사하는 유쾌한 우애와 순수한 웃음! 《흔한남매 12》는 ‘흔한남매’ 유튜브 영상의 스토리를 앙증맞고 유머러스한 만화로 풀어 낸 코믹북입니다. 하루도 조용할 날이 없는 으뜸이와 에이미의 일상 스토리는 진짜 웃음이 필요한 어린이들에게 유쾌한 우애와 순수한 웃음을 선사할 것입니다',\n",
       "   'datetime': '2022-11-30T00:00:00.000+09:00',\n",
       "   'isbn': '1168414474 9791168414471',\n",
       "   'price': 14500,\n",
       "   'publisher': '미래엔아이세움',\n",
       "   'sale_price': 13050,\n",
       "   'status': '정상판매',\n",
       "   'thumbnail': 'https://search1.kakaocdn.net/thumb/R120x174.q85/?fname=http%3A%2F%2Ft1.daumcdn.net%2Flbook%2Fimage%2F6220740%3Ftimestamp%3D20241213154247',\n",
       "   'title': '흔한남매 12',\n",
       "   'translators': [],\n",
       "   'url': 'https://search.daum.net/search?w=bookpage&bookId=6220740&q=%ED%9D%94%ED%95%9C%EB%82%A8%EB%A7%A4+12'},\n",
       "  {'authors': ['스즈키 유우토'],\n",
       "   'contents': '영화를 모독하는 놈은 죽인다.  시시바 vs 요츠무라, 오사라기 vs 기녀의 사투로 인해 피바람이 치는 교토 거리!!  사제 간이었던 요츠무라와 시시바, 그들을 둘러싼 장절한 과거란…?!  한편 그 시각, 혼란에 빠진 JCC에서는 사카모토와 카나구리의 배틀이 최종국면에 접어들고 있었다!!',\n",
       "   'datetime': '2023-09-30T00:00:00.000+09:00',\n",
       "   'isbn': '1171240651 9791171240654',\n",
       "   'price': 6000,\n",
       "   'publisher': '대원씨아이',\n",
       "   'sale_price': 5400,\n",
       "   'status': '정상판매',\n",
       "   'thumbnail': 'https://search1.kakaocdn.net/thumb/R120x174.q85/?fname=http%3A%2F%2Ft1.daumcdn.net%2Flbook%2Fimage%2F6445989%3Ftimestamp%3D20250318151951',\n",
       "   'title': '사카모토 데이즈 12: 크랭크 인',\n",
       "   'translators': [],\n",
       "   'url': 'https://search.daum.net/search?w=bookpage&bookId=6445989&q=%EC%82%AC%EC%B9%B4%EB%AA%A8%ED%86%A0+%EB%8D%B0%EC%9D%B4%EC%A6%88+12%3A+%ED%81%AC%EB%9E%AD%ED%81%AC+%EC%9D%B8'},\n",
       "  {'authors': ['후지모토 타츠키'],\n",
       "   'contents': '악마 포치타와 함께 빚쟁이 데빌 헌터로 고용되어 혹사당하는 극빈곤 소년 덴지. 시궁창 인생은 잔인한 배신을 계기로 급변한다. 악마가 깃든 몸으로 악마를 사냥하는 신시대 다크 히어로 액션, 개막!',\n",
       "   'datetime': '2023-01-25T00:00:00.000+09:00',\n",
       "   'isbn': '1169475809 9791169475808',\n",
       "   'price': 6000,\n",
       "   'publisher': '학산문화사',\n",
       "   'sale_price': 5400,\n",
       "   'status': '정상판매',\n",
       "   'thumbnail': 'https://search1.kakaocdn.net/thumb/R120x174.q85/?fname=http%3A%2F%2Ft1.daumcdn.net%2Flbook%2Fimage%2F6265827%3Ftimestamp%3D20250227154323',\n",
       "   'title': '체인소 맨 12',\n",
       "   'translators': [],\n",
       "   'url': 'https://search.daum.net/search?w=bookpage&bookId=6265827&q=%EC%B2%B4%EC%9D%B8%EC%86%8C+%EB%A7%A8+12'},\n",
       "  {'authors': ['안치현'],\n",
       "   'contents': \"구독자 수 283만 명의 인기 유튜브 크리에이터, 흔한남매가 과학 학습 만화로 찾아왔습니다. 학습 만화라서 어렵고 딱딱할 것이라는 생각은 금물! 이 책은 유머러스한 에피소드 '만화'와 말랑말랑한 과학 '정보' 페이지, 핵심 키워드를 담은 '퀴즈', 그리고 마지막으로 성취감을 길러 줄 '특별 칭찬 상장'까지 지루할 틈 없는 흥미로운 구성으로 가득하니까요. 《흔한남매의 흔한 호기심》으로 배꼽 잡는 재미와 과학 호기심을 동시에 잡아 보세요.\",\n",
       "   'datetime': '2024-10-10T00:00:00.000+09:00',\n",
       "   'isbn': '1168419018 9791168419018',\n",
       "   'price': 15000,\n",
       "   'publisher': '미래엔아이세움',\n",
       "   'sale_price': 13500,\n",
       "   'status': '정상판매',\n",
       "   'thumbnail': 'https://search1.kakaocdn.net/thumb/R120x174.q85/?fname=http%3A%2F%2Ft1.daumcdn.net%2Flbook%2Fimage%2F6743999%3Ftimestamp%3D20250207154037',\n",
       "   'title': '흔한남매의 흔한 호기심 12',\n",
       "   'translators': [],\n",
       "   'url': 'https://search.daum.net/search?w=bookpage&bookId=6743999&q=%ED%9D%94%ED%95%9C%EB%82%A8%EB%A7%A4%EC%9D%98+%ED%9D%94%ED%95%9C+%ED%98%B8%EA%B8%B0%EC%8B%AC+12'},\n",
       "  {'authors': ['이노우에 타케히코'],\n",
       "   'contents': '90년대는 그야말로 ‘농구’의 시대였다. 당시의 중고등학생들은 유명한 NBA선수들만 뿐만 아니라 대학농구에서 활약하는 선수들의 이름을 외우고 다녔으며 거리에는 농구 드라마 ‘마지막 승부’의 주제곡이 흘러나왔다. 이렇게 한국뿐만 아니라 90년대에는 중국과 일본까지 동북아시아에는 농구의 인기가 치솟았다. 이 현상에 한 몫을 한 것이 바로 이노우에 타케히코의 《슬램덩크》라는 작품이다.',\n",
       "   'datetime': '2018-10-31T00:00:00.000+09:00',\n",
       "   'isbn': '1133487629 9791133487622',\n",
       "   'price': 7000,\n",
       "   'publisher': '대원씨아이',\n",
       "   'sale_price': 6300,\n",
       "   'status': '정상판매',\n",
       "   'thumbnail': 'https://search1.kakaocdn.net/thumb/R120x174.q85/?fname=http%3A%2F%2Ft1.daumcdn.net%2Flbook%2Fimage%2F3761658%3Ftimestamp%3D20250116113800',\n",
       "   'title': '슬램덩크 12: 북산 vs. 능남(2)(신장재편판)',\n",
       "   'translators': [],\n",
       "   'url': 'https://search.daum.net/search?w=bookpage&bookId=3761658&q=%EC%8A%AC%EB%9E%A8%EB%8D%A9%ED%81%AC+12%3A+%EB%B6%81%EC%82%B0+vs.+%EB%8A%A5%EB%82%A8%282%29%28%EC%8B%A0%EC%9E%A5%EC%9E%AC%ED%8E%B8%ED%8C%90%29'}],\n",
       " 'meta': {'is_end': False, 'pageable_count': 1000, 'total_count': 38102}}"
      ]
     },
     "execution_count": 171,
     "metadata": {},
     "output_type": "execute_result"
    }
   ],
   "source": [
    "import aiohttp\n",
    "import nest_asyncio\n",
    "\n",
    "nest_asyncio.apply()\n",
    "\n",
    "async def search_book():\n",
    "    base_url = \"https://dapi.kakao.com/v3/search/book?target=title\"\n",
    "    headers = {\"Authorization\": f\"KakaoAK e048f12e7d252e022a1ef06717d9d4b9\"}\n",
    "    params = {\n",
    "        \"query\": str(12),\n",
    "        \"sort\": \"accuracy\",\n",
    "        \"page\": 1,\n",
    "        \"size\": 10,\n",
    "        \"target\": \"title\",\n",
    "    }\n",
    "    \n",
    "    async with aiohttp.ClientSession() as session:\n",
    "        async with session.get(base_url, params=params, headers=headers) as response:\n",
    "            result = await response.json()\n",
    "            return result\n",
    "\n",
    "# 비동기 함수 실행\n",
    "async def main():\n",
    "    result = await search_book()\n",
    "    print(result)\n",
    "    return result\n",
    "\n",
    "# Jupyter notebook에서 실행\n",
    "await main()\n"
   ]
  },
  {
   "cell_type": "code",
   "execution_count": null,
   "metadata": {},
   "outputs": [],
   "source": []
  }
 ],
 "metadata": {
  "kernelspec": {
   "display_name": "env",
   "language": "python",
   "name": "python3"
  },
  "language_info": {
   "codemirror_mode": {
    "name": "ipython",
    "version": 3
   },
   "file_extension": ".py",
   "mimetype": "text/x-python",
   "name": "python",
   "nbconvert_exporter": "python",
   "pygments_lexer": "ipython3",
   "version": "3.11.2"
  }
 },
 "nbformat": 4,
 "nbformat_minor": 2
}
