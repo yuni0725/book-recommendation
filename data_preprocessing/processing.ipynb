{
 "cells": [
  {
   "cell_type": "code",
   "execution_count": 6,
   "metadata": {},
   "outputs": [],
   "source": [
    "import pandas as pd\n",
    "import csv\n",
    "\n",
    "df = pd.read_csv(\"dataset/data copy.csv\", \n",
    "        quoting=csv.QUOTE_ALL,  \n",
    "        escapechar=\"\\\\\", \n",
    "        encoding=\"utf-8\",)"
   ]
  },
  {
   "cell_type": "code",
   "execution_count": 7,
   "metadata": {},
   "outputs": [
    {
     "data": {
      "text/plain": [
       "9433"
      ]
     },
     "execution_count": 7,
     "metadata": {},
     "output_type": "execute_result"
    }
   ],
   "source": [
    "df['책소개'] = df['책소개'].str.replace('\\n', '')\n",
    "df['책소개'] = df['책소개'].str.replace('\\r', '')\n",
    "df['책소개'] = df['책소개'].str.strip()\n",
    "df['책소개'] = df['책소개'].str.replace(\"   \", \" \").replace(\"  \", \" \")\n",
    "df['카카오ISBN'] = df['카카오ISBN'].astype(float).astype(int)\n",
    "\n",
    "len(df)"
   ]
  },
  {
   "cell_type": "code",
   "execution_count": 8,
   "metadata": {},
   "outputs": [],
   "source": [
    "df = df.dropna(subset=['알라딘카테고리명'])"
   ]
  },
  {
   "cell_type": "code",
   "execution_count": 9,
   "metadata": {},
   "outputs": [
    {
     "data": {
      "text/plain": [
       "9419"
      ]
     },
     "execution_count": 9,
     "metadata": {},
     "output_type": "execute_result"
    }
   ],
   "source": [
    "len(df)"
   ]
  },
  {
   "cell_type": "code",
   "execution_count": null,
   "metadata": {},
   "outputs": [],
   "source": [
    "df.to_csv(\"data_aladin.csv\", index=False,\n",
    "                encoding=\"utf-8-sig\",\n",
    "                quoting=csv.QUOTE_ALL,)"
   ]
  }
 ],
 "metadata": {
  "kernelspec": {
   "display_name": "env",
   "language": "python",
   "name": "python3"
  },
  "language_info": {
   "codemirror_mode": {
    "name": "ipython",
    "version": 3
   },
   "file_extension": ".py",
   "mimetype": "text/x-python",
   "name": "python",
   "nbconvert_exporter": "python",
   "pygments_lexer": "ipython3",
   "version": "3.11.2"
  }
 },
 "nbformat": 4,
 "nbformat_minor": 2
}
